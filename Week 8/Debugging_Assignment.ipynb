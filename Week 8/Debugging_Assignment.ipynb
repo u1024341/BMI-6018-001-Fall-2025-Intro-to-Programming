{
 "cells": [
  {
   "cell_type": "markdown",
   "id": "11d34733",
   "metadata": {},
   "source": [
    "1.a\n",
    "Using the print() function only, get the wrong_add_function to print out where\n",
    "it is making a mistake, given the expected output for ex, \"we are making an error \n",
    "in the loop\", which you would put near the loop. \n",
    "Structure the print() statement to show what the expected output ought to be\n",
    "via f-strings: ie \"The correct answer is supposed to be: [...]\"."
   ]
  },
  {
   "cell_type": "code",
   "execution_count": 28,
   "id": "ea1b0468",
   "metadata": {},
   "outputs": [
    {
     "name": "stdout",
     "output_type": "stream",
     "text": [
      "DEBUG: we are making an error in the loop (over-summing inside the for-loop).\n",
      "DEBUG: The correct answer is supposed to be: [4, 5, 6]\n",
      "DEBUG: at index 0: wrong interim value = 6\n",
      "DEBUG: at index 1: wrong interim value = 9\n",
      "DEBUG: at index 2: wrong interim value = 12\n"
     ]
    },
    {
     "data": {
      "text/plain": [
       "[6, 9, 12]"
      ]
     },
     "execution_count": 28,
     "metadata": {},
     "output_type": "execute_result"
    }
   ],
   "source": [
    "def wrong_add_function_debug(arg1, arg2):\n",
    "    # prints debug info showing where the bug is and what it should return\n",
    "    print(\"DEBUG: we are making an error in the loop (over-summing inside the for-loop).\")\n",
    "    if all(isinstance(x, int) for x in arg1 + arg2):\n",
    "        print(f\"DEBUG: The correct answer is supposed to be: {[x + sum(arg2) for x in arg1]}\")\n",
    "    else:\n",
    "        print(\"DEBUG: Non-numeric inputs; expected numeric example suppressed.\")\n",
    "\n",
    "    a = list(arg1)  # avoid mutating the caller input\n",
    "    idx = 0\n",
    "    while idx < len(a):\n",
    "        arg_2_sum = 0\n",
    "        # BUG: recomputes sum([a[idx] + i for i in arg2]) inside the loop\n",
    "        for _ in arg2:\n",
    "            arg_2_sum = sum([a[idx] + i for i in arg2])\n",
    "        print(f\"DEBUG: at index {idx}: wrong interim value = {arg_2_sum}\")\n",
    "        a[idx] = arg_2_sum\n",
    "        idx += 1\n",
    "    return a\n",
    "\n",
    "# Demo (shows prints + wrong result)\n",
    "wrong_add_function_debug([1,2,3], [1,1,1])"
   ]
  },
  {
   "cell_type": "markdown",
   "id": "a19e06e0",
   "metadata": {},
   "source": [
    "1.b\n",
    "Then, changing as little as possible, modify the function, using the same \n",
    "general structure to output the correct answer. Call this new function \n",
    "correct_add_function() "
   ]
  },
  {
   "cell_type": "code",
   "execution_count": 29,
   "id": "1c6c7e4a",
   "metadata": {},
   "outputs": [
    {
     "name": "stdout",
     "output_type": "stream",
     "text": [
      "1.b numeric: [4, 5, 6]\n",
      "1.b string: ['1ab', '2ab', '3ab']\n"
     ]
    }
   ],
   "source": [
    "def correct_add_function(arg1, arg2):\n",
    "    # fixed version - adds sum of arg2 to each element in arg1\n",
    "    # works for both ints and strings\n",
    "    # numeric path\n",
    "    if all(isinstance(i, int) for i in arg1) and all(isinstance(i, int) for i in arg2):\n",
    "        a = list(arg1)\n",
    "        add_all = sum(arg2)\n",
    "        idx = 0\n",
    "        while idx < len(a):\n",
    "            a[idx] = a[idx] + add_all\n",
    "            idx += 1\n",
    "        return a\n",
    "\n",
    "    # string path\n",
    "    elif all(isinstance(i, str) for i in arg1) and all(isinstance(i, str) for i in arg2):\n",
    "        a = list(arg1)\n",
    "        idx = 0\n",
    "        while idx < len(a):\n",
    "            add_all = \"\"\n",
    "            for s in arg2:\n",
    "                add_all += s\n",
    "            a[idx] = a[idx] + add_all\n",
    "            idx += 1\n",
    "        return a\n",
    "\n",
    "    raise TypeError(\"Input lists must be all-int or all-str.\")\n",
    "\n",
    "# Demos\n",
    "print(\"1.b numeric:\", correct_add_function([1,2,3], [1,1,1]))  # -> [4, 5, 6]\n",
    "print(\"1.b string:\", correct_add_function(['1','2','3'], ['a','b']))  # -> ['1ab','2ab','3ab']"
   ]
  },
  {
   "cell_type": "markdown",
   "id": "20e6dc85",
   "metadata": {},
   "source": [
    "2.a Update the numeric section of the function with your changes from 1 for both 2.b and 2.c"
   ]
  },
  {
   "cell_type": "code",
   "execution_count": 30,
   "id": "cbed1251",
   "metadata": {},
   "outputs": [],
   "source": [
    "def wrong_add_function(arg1, arg2):\n",
    "    # keeps the bug for testing purposes\n",
    "    # numeric section still has the over-summing issue\n",
    "    # numeric section (intentionally still wrong)\n",
    "    if all(type(i) == int for i in arg1) and all(type(i) == int for i in arg2):\n",
    "        a = list(arg1)\n",
    "        idx = 0\n",
    "        while idx < len(a):\n",
    "            arg_2_sum = 0\n",
    "            for _ in arg2:\n",
    "                arg_2_sum = sum([a[idx] + i for i in arg2])  # BUG remains\n",
    "            a[idx] = arg_2_sum\n",
    "            idx += 1\n",
    "        return a\n",
    "\n",
    "    # string section (correct)\n",
    "    elif all(type(i) == str for i in arg1) and all(type(i) == str for i in arg2):\n",
    "        a = list(arg1)\n",
    "        idx = 0\n",
    "        while idx < len(a):\n",
    "            arg_2_sum = \"\"\n",
    "            for s in arg2:\n",
    "                arg_2_sum += s\n",
    "            a[idx] = a[idx] + str(arg_2_sum)\n",
    "            idx += 1\n",
    "        return a\n",
    "\n",
    "    raise TypeError(\"Input lists must be all-int or all-str.\")"
   ]
  },
  {
   "cell_type": "markdown",
   "id": "a54d4cba",
   "metadata": {},
   "source": [
    "2.b Without modifying the string section code itself or the input directly, \n",
    "write a try, except block that catches the issue with the input below and \n",
    "returns an error message to the user, in case users give invalid inputs,\n",
    "(for example an input of [\"5\",\"2\", 5]): \"Your input argument [1 or 2] at element [n] is not of the expected type. Please change this and rerun. Name this function exception_add_function()"
   ]
  },
  {
   "cell_type": "code",
   "execution_count": 31,
   "id": "b85e7175",
   "metadata": {},
   "outputs": [
    {
     "name": "stdout",
     "output_type": "stream",
     "text": [
      "Your input argument [2] at element [2] is not of the expected type. Please change this and rerun.\n"
     ]
    }
   ],
   "source": [
    "def exception_add_function(arg1, arg2):\n",
    "    # catches mixed type inputs and returns error message\n",
    "    try:\n",
    "        # all-int -> corrected numeric path\n",
    "        if all(isinstance(i, int) for i in arg1) and all(isinstance(i, int) for i in arg2):\n",
    "            return correct_add_function(arg1, arg2)\n",
    "\n",
    "        # all-str -> reuse string behavior\n",
    "        if all(isinstance(i, str) for i in arg1) and all(isinstance(i, str) for i in arg2):\n",
    "            return wrong_add_function(arg1, arg2)\n",
    "\n",
    "        # otherwise: find first offending element and report it\n",
    "        def first_bad(lst, expected_type):\n",
    "            for idx, v in enumerate(lst):\n",
    "                if not isinstance(v, expected_type):\n",
    "                    return idx\n",
    "            return None\n",
    "\n",
    "        if all(isinstance(i, int) for i in arg1):\n",
    "            bad_idx = first_bad(arg2, int)\n",
    "            if bad_idx is not None:\n",
    "                raise TypeError(f\"Your input argument [2] at element [{bad_idx}] is not of the expected type. Please change this and rerun.\")\n",
    "        elif all(isinstance(i, str) for i in arg1):\n",
    "            bad_idx = first_bad(arg2, str)\n",
    "            if bad_idx is not None:\n",
    "                raise TypeError(f\"Your input argument [2] at element [{bad_idx}] is not of the expected type. Please change this and rerun.\")\n",
    "        elif all(isinstance(i, int) for i in arg2):\n",
    "            bad_idx = first_bad(arg1, int)\n",
    "            if bad_idx is not None:\n",
    "                raise TypeError(f\"Your input argument [1] at element [{bad_idx}] is not of the expected type. Please change this and rerun.\")\n",
    "        elif all(isinstance(i, str) for i in arg2):\n",
    "            bad_idx = first_bad(arg1, str)\n",
    "            if bad_idx is not None:\n",
    "                raise TypeError(f\"Your input argument [1] at element [{bad_idx}] is not of the expected type. Please change this and rerun.\")\n",
    "        else:\n",
    "            raise TypeError(\"Your inputs are not homogeneously int or str.\")\n",
    "    except TypeError as e:\n",
    "        return str(e)\n",
    "\n",
    "# Demo (mixed types -> targeted error message)\n",
    "print(exception_add_function(['1','2','3'], ['1','1', 1]))"
   ]
  },
  {
   "cell_type": "markdown",
   "id": "2f5962cf",
   "metadata": {},
   "source": [
    "2.c Without modifying the string section code itself or the input directly, \n",
    "write a try, except block that catches the issue with the input below and \n",
    "gets it to process via the string section. IE, do not, outside the function,\n",
    "change the values of arg_str_1 or arg_str_2. Name this function \n",
    "correction_add_function(), i.e you will not be updating the wrong_add_function, you will simply handle the error of wrong inputs in a seperate function, you want the wrong_add_function to output its current result you are only bolstering the function for edge cases ."
   ]
  },
  {
   "cell_type": "code",
   "execution_count": 32,
   "id": "783f40f5",
   "metadata": {},
   "outputs": [
    {
     "name": "stdout",
     "output_type": "stream",
     "text": [
      "2.c mixed -> string path: ['1111', '2111', '3111']\n",
      "2.c numeric (WRONG - as expected): [6, 9, 12]\n",
      "2.c all strings: ['axy', 'bxy', 'cxy']\n"
     ]
    }
   ],
   "source": [
    "def correction_add_function(arg1, arg2):\n",
    "    # handles edge cases by converting mixed types to strings\n",
    "    # otherwise passes through to wrong_add_function unchanged\n",
    "    try:\n",
    "        # Try to pass directly to wrong_add_function first\n",
    "        return wrong_add_function(arg1, arg2)\n",
    "    except TypeError:\n",
    "        # If it fails due to mixed types, coerce everything to strings\n",
    "        coerced1 = [str(x) for x in arg1]\n",
    "        coerced2 = [str(x) for x in arg2]\n",
    "        return wrong_add_function(coerced1, coerced2)\n",
    "\n",
    "# Demos\n",
    "print(\"2.c mixed -> string path:\", correction_add_function(['1','2','3'], ['1','1', 1]))\n",
    "# Output: ['111', '211', '311']\n",
    "\n",
    "print(\"2.c numeric (WRONG - as expected):\", correction_add_function([1,2,3], [1,1,1]))\n",
    "# Output: [6, 9, 12] - wrong result, but that's what wrong_add_function does!\n",
    "\n",
    "print(\"2.c all strings:\", correction_add_function(['a','b','c'], ['x','y']))\n",
    "# Output: ['axy', 'bxy', 'cxy']"
   ]
  },
  {
   "cell_type": "code",
   "execution_count": 33,
   "id": "4f4fa34a",
   "metadata": {},
   "outputs": [
    {
     "name": "stdout",
     "output_type": "stream",
     "text": [
      "correct_add_function numeric: [4, 5, 6]\n",
      "wrong_add_function numeric  : [6, 9, 12]\n",
      "correct_add_function strings: ['1xy', '2xy', '3xy']\n",
      "wrong_add_function strings  : ['1xy', '2xy', '3xy']\n"
     ]
    }
   ],
   "source": [
    "print(\"correct_add_function numeric:\", correct_add_function([1,2,3], [1,1,1]))  # [4,5,6]\n",
    "print(\"wrong_add_function numeric  :\", wrong_add_function([1,2,3], [1,1,1]))    # wrong on purpose\n",
    "print(\"correct_add_function strings:\", correct_add_function(['1','2','3'], ['x','y']))\n",
    "print(\"wrong_add_function strings  :\", wrong_add_function(['1','2','3'], ['x','y']))"
   ]
  }
 ],
 "metadata": {
  "kernelspec": {
   "display_name": "Python 3",
   "language": "python",
   "name": "python3"
  },
  "language_info": {
   "codemirror_mode": {
    "name": "ipython",
    "version": 3
   },
   "file_extension": ".py",
   "mimetype": "text/x-python",
   "name": "python",
   "nbconvert_exporter": "python",
   "pygments_lexer": "ipython3",
   "version": "3.13.3"
  }
 },
 "nbformat": 4,
 "nbformat_minor": 5
}
