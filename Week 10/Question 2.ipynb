{
 "cells": [
  {
   "cell_type": "markdown",
   "id": "ad315ce8",
   "metadata": {},
   "source": [
    "2. Create a 1D array of numbers from 0 to 9. Desired output:\n",
    "\n",
    "#> array([0, 1, 2, 3, 4, 5, 6, 7, 8, 9])"
   ]
  },
  {
   "cell_type": "code",
   "execution_count": null,
   "id": "d277f08d",
   "metadata": {
    "vscode": {
     "languageId": "plaintext"
    }
   },
   "outputs": [],
   "source": [
    "Answer"
   ]
  }
 ],
 "metadata": {
  "language_info": {
   "name": "python"
  }
 },
 "nbformat": 4,
 "nbformat_minor": 5
}
