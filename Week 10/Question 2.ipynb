{
 "cells": [
  {
   "cell_type": "markdown",
   "id": "ad315ce8",
   "metadata": {},
   "source": [
    "2. Create a 1D array of numbers from 0 to 9. Desired output:\n",
    "\n",
    "#> array([0, 1, 2, 3, 4, 5, 6, 7, 8, 9])"
   ]
  }
 ],
 "metadata": {
  "language_info": {
   "name": "python"
  }
 },
 "nbformat": 4,
 "nbformat_minor": 5
}
