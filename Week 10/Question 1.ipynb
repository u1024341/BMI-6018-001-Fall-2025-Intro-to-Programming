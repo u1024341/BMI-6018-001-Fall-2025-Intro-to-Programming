{
 "cells": [
  {
   "cell_type": "markdown",
   "id": "f4b8b1f0",
   "metadata": {},
   "source": [
    "1. Import numpy as np and print the version number. (5 Points)\n"
   ]
  },
  {
   "cell_type": "code",
   "execution_count": null,
   "id": "6b2caeb3",
   "metadata": {},
   "outputs": [],
   "source": [
    "Answer"
   ]
  }
 ],
 "metadata": {
  "kernelspec": {
   "display_name": "Python 3",
   "language": "python",
   "name": "python3"
  },
  "language_info": {
   "name": "python",
   "version": "3.14.0"
  }
 },
 "nbformat": 4,
 "nbformat_minor": 5
}
