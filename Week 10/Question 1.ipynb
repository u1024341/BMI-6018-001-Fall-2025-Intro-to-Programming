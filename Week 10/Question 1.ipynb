{
 "cells": [
  {
   "cell_type": "markdown",
   "id": "f4b8b1f0",
   "metadata": {},
   "source": [
    "1. Import numpy as np and print the version number. (5 Points)\n"
   ]
  }
 ],
 "metadata": {
  "language_info": {
   "name": "python"
  }
 },
 "nbformat": 4,
 "nbformat_minor": 5
}
