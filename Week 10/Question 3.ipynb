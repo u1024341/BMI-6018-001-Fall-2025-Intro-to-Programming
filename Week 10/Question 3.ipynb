{
 "cells": [
  {
   "cell_type": "markdown",
   "id": "db2dccd9",
   "metadata": {},
   "source": [
    "3. Import a dataset with numbers and texts keeping the text intact in python numpy. Use the iris dataset available from https://archive.ics.uci.edu/ml/machine-learning-databases/iris/iris.data"
   ]
  },
  {
   "cell_type": "code",
   "execution_count": null,
   "id": "1d46cfc6",
   "metadata": {
    "vscode": {
     "languageId": "plaintext"
    }
   },
   "outputs": [],
   "source": [
    "Answer"
   ]
  }
 ],
 "metadata": {
  "language_info": {
   "name": "python"
  }
 },
 "nbformat": 4,
 "nbformat_minor": 5
}
