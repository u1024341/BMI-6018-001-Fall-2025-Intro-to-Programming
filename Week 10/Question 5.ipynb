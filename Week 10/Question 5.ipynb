{
 "cells": [
  {
   "cell_type": "markdown",
   "id": "909e5acb",
   "metadata": {},
   "source": [
    "5. From the array a, replace all values greater than 30 to 30 and less than 10 to 10.\n",
    "\n",
    "np.random.seed(100)\n",
    "a = np.random.uniform(1,50, 20)"
   ]
  },
  {
   "cell_type": "code",
   "execution_count": null,
   "id": "5e259317",
   "metadata": {
    "vscode": {
     "languageId": "plaintext"
    }
   },
   "outputs": [],
   "source": [
    "Answer"
   ]
  }
 ],
 "metadata": {
  "language_info": {
   "name": "python"
  }
 },
 "nbformat": 4,
 "nbformat_minor": 5
}
