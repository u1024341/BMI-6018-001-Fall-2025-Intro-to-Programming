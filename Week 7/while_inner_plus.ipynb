{
 "cells": [
  {
   "cell_type": "markdown",
   "id": "11031eeb",
   "metadata": {},
   "source": [
    "Write a python program that, given an input list of any level of complexity/nestedness, will return the inner most list plus 1. This is to be done with a while loop. Note: the input will contain only integers or lists. \n",
    "\n",
    "As an example:\n",
    "\n",
    "input_list = [1,2,3,4,[5,6,7,[8,9]]]\n",
    "\n",
    "your_py_program.py input_list\n",
    "\n",
    "will produce:\n",
    "\n",
    "[9,10]\n",
    "\n",
    "That is [8, 9] (the inner most list) plus 1 -> [9, 10]"
   ]
  },
  {
   "cell_type": "code",
   "execution_count": 6,
   "id": "b2e2f73c",
   "metadata": {},
   "outputs": [
    {
     "name": "stdout",
     "output_type": "stream",
     "text": [
      "[15, 16, 17]\n"
     ]
    }
   ],
   "source": [
    "def inner_plus_while(input_list):\n",
    "    current = input_list\n",
    "\n",
    "    while any(isinstance(x, list) for x in current):\n",
    "        for x in current:\n",
    "            if isinstance(x, list):\n",
    "                current = x\n",
    "                break\n",
    "    \n",
    "    return(n+1 for n in current)\n",
    "\n",
    "input_list = [10, 11, [12, 13, [14, 15, 16]]]\n",
    "print(list(inner_plus_while(input_list)))"
   ]
  },
  {
   "cell_type": "markdown",
   "id": "81b235f0",
   "metadata": {},
   "source": [
    "This code/program above takes a nested list (a list that contains other lists inside it) and finds the innermost list - In this case, it's \"14, 15, 16\". Once it finds that innermost list, it adds 1 to each number in that list and prints the result."
   ]
  }
 ],
 "metadata": {
  "kernelspec": {
   "display_name": "Python 3",
   "language": "python",
   "name": "python3"
  },
  "language_info": {
   "codemirror_mode": {
    "name": "ipython",
    "version": 3
   },
   "file_extension": ".py",
   "mimetype": "text/x-python",
   "name": "python",
   "nbconvert_exporter": "python",
   "pygments_lexer": "ipython3",
   "version": "3.13.3"
  }
 },
 "nbformat": 4,
 "nbformat_minor": 5
}
