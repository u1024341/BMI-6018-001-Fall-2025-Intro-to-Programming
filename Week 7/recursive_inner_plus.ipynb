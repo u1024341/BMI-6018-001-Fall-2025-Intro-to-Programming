{
 "cells": [
  {
   "cell_type": "markdown",
   "id": "6b918733",
   "metadata": {},
   "source": [
    "Write the a python program that, given an input list of any level of complexity/nestedness, will return the inner most list plus 1. This is to be done with recursion. Note: the input will contain only integers or lists. "
   ]
  },
  {
   "cell_type": "code",
   "execution_count": 1,
   "id": "83859eaf",
   "metadata": {},
   "outputs": [
    {
     "name": "stdout",
     "output_type": "stream",
     "text": [
      "[15, 16, 17]\n"
     ]
    }
   ],
   "source": [
    "def inner_plus_recursive(input_list):\n",
    "    if not any(isinstance(x, list) for x in input_list):\n",
    "        return [x + 1 for x in input_list]\n",
    "    \n",
    "    for x in input_list:\n",
    "        if isinstance(x, list):\n",
    "            return inner_plus_recursive(x)\n",
    "\n",
    "input_list = [10, 11, [12, 13, [14, 15, 16]]]\n",
    "print(inner_plus_recursive(input_list))"
   ]
  },
  {
   "cell_type": "markdown",
   "id": "cf508b79",
   "metadata": {},
   "source": [
    "This recursive code/program above finds the innermost list by repeatedly calling itself until there are no more sublists left. Once it reaches that innermost list, it adds 1 to every number inside and returns the new list. Unlike the while loop version, which uses repetition with a loop, this one uses recursion, meaning the function calls itself to go deeper into each nested list."
   ]
  }
 ],
 "metadata": {
  "kernelspec": {
   "display_name": "Python 3",
   "language": "python",
   "name": "python3"
  },
  "language_info": {
   "codemirror_mode": {
    "name": "ipython",
    "version": 3
   },
   "file_extension": ".py",
   "mimetype": "text/x-python",
   "name": "python",
   "nbconvert_exporter": "python",
   "pygments_lexer": "ipython3",
   "version": "3.13.3"
  }
 },
 "nbformat": 4,
 "nbformat_minor": 5
}
