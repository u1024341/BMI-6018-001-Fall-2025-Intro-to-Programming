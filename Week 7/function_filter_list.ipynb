{
 "cells": [
  {
   "cell_type": "markdown",
   "id": "47b80b63",
   "metadata": {},
   "source": [
    "Write a python program that, given an input list, will filter the input above a user defined threshold. This is to be done with a standard function.\n",
    "\n",
    "That is, given a list [1,2,3,4,5,6,7,8,9], and an argument (6), it should return [1,2,3,4,5,6]"
   ]
  },
  {
   "cell_type": "code",
   "execution_count": 2,
   "id": "cd0eab25",
   "metadata": {},
   "outputs": [
    {
     "name": "stdout",
     "output_type": "stream",
     "text": [
      "[1, 2, 3, 4, 5, 6]\n"
     ]
    }
   ],
   "source": [
    "def filter_list(input_list, threshold):\n",
    "    return [x for x in input_list if x <= threshold]\n",
    "\n",
    "numbers = [1, 2, 3, 4, 5, 6, 7, 8, 9]\n",
    "threshold = 6\n",
    "print(filter_list(numbers, threshold))"
   ]
  },
  {
   "cell_type": "markdown",
   "id": "057f8e36",
   "metadata": {},
   "source": [
    "This code/program above filters a list so that only numbers less than or equal to the user-defined threshold remain. It uses a standard function with a simple list comprehension to check each number in the list.\n",
    "\n",
    "If the input is [1,2,3,4,5,6,7,8,9] and the threshold is 6, the output will be [1,2,3,4,5,6]."
   ]
  }
 ],
 "metadata": {
  "kernelspec": {
   "display_name": "Python 3",
   "language": "python",
   "name": "python3"
  },
  "language_info": {
   "codemirror_mode": {
    "name": "ipython",
    "version": 3
   },
   "file_extension": ".py",
   "mimetype": "text/x-python",
   "name": "python",
   "nbconvert_exporter": "python",
   "pygments_lexer": "ipython3",
   "version": "3.13.3"
  }
 },
 "nbformat": 4,
 "nbformat_minor": 5
}
