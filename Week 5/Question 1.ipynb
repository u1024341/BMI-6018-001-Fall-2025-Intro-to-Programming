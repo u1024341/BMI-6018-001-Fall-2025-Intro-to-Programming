{
 "cells": [
  {
   "cell_type": "markdown",
   "id": "05fa1e16",
   "metadata": {},
   "source": [
    "#Problem 1: Lists, Sets and Coersion\n",
    "\n",
    "1.a Create a list of integers no fewer than 10 items from 0 to 9.\n",
    " .b Add 3 to the 5th indexed element\n",
    " .c Coerce all elements in the list to floats using list comprehension\n",
    " .d Coerce the list to a set\n",
    " .e Using a method, append int 10 to the set\n",
    " .f Using a method, pop an item from the set\n",
    " .g Using a length counting function, count the number of items in the set\n",
    " .h Check if the number of items in the set is the same as the number of items in the list\n",
    " .i Coerce the set to a list and use the \"+\" operator combine the list to the list from 1.a\n",
    " .j Coerce 1.i to a set\n",
    " .k Count the number of elements in the 1.j"
   ]
  },
  {
   "cell_type": "code",
   "execution_count": 16,
   "id": "ce19d921",
   "metadata": {},
   "outputs": [
    {
     "name": "stdout",
     "output_type": "stream",
     "text": [
      "1.a - Initial list: [0, 1, 2, 3, 4, 5, 6, 7, 8, 9, 0, 1]\n"
     ]
    }
   ],
   "source": [
    "# 1.a Create a list of integers no fewer than 10 items from 0 to 9.\n",
    "one_a = [0, 1, 2, 3, 4, 5, 6, 7, 8, 9, 0, 1]\n",
    "print(f\"1.a - Initial list: {one_a}\")"
   ]
  },
  {
   "cell_type": "code",
   "execution_count": 17,
   "id": "e98c0d02",
   "metadata": {},
   "outputs": [
    {
     "name": "stdout",
     "output_type": "stream",
     "text": [
      "1.b - Before adding 3 to the 5th indexed element: [0, 1, 2, 3, 4, 5, 6, 7, 8, 9, 0, 1]\n",
      "1.b - After adding 3: [0, 1, 2, 3, 4, 8, 6, 7, 8, 9, 0, 1]\n"
     ]
    }
   ],
   "source": [
    "# 1.b Add 3 to the 5th indexed element\n",
    "print(f\"1.b - Before adding 3 to the 5th indexed element: {one_a}\")\n",
    "one_a[5] += 3\n",
    "print(f\"1.b - After adding 3: {one_a}\")"
   ]
  },
  {
   "cell_type": "code",
   "execution_count": 18,
   "id": "fa7bc91c",
   "metadata": {},
   "outputs": [
    {
     "name": "stdout",
     "output_type": "stream",
     "text": [
      "1.c - List after coercing to floats: [0.0, 1.0, 2.0, 3.0, 4.0, 8.0, 6.0, 7.0, 8.0, 9.0, 0.0, 1.0]\n"
     ]
    }
   ],
   "source": [
    "# 1.c Coerce all elements in the list to floats using list comprehension\n",
    "one_c = [float(x) for x in one_a]\n",
    "print(f\"1.c - List after coercing to floats: {one_c}\")"
   ]
  },
  {
   "cell_type": "code",
   "execution_count": 19,
   "id": "479d0f33",
   "metadata": {},
   "outputs": [
    {
     "name": "stdout",
     "output_type": "stream",
     "text": [
      "1.d - Set from list: {0.0, 1.0, 2.0, 3.0, 4.0, 6.0, 7.0, 8.0, 9.0}\n"
     ]
    }
   ],
   "source": [
    "# 1.d Coerce the list to a set\n",
    "one_d = set(one_c)\n",
    "print(f\"1.d - Set from list: {one_d}\")"
   ]
  },
  {
   "cell_type": "code",
   "execution_count": 20,
   "id": "6762d8b0",
   "metadata": {},
   "outputs": [
    {
     "name": "stdout",
     "output_type": "stream",
     "text": [
      "1.e - Set after adding 10: {0.0, 1.0, 2.0, 3.0, 4.0, 6.0, 7.0, 8.0, 9.0, 10}\n"
     ]
    }
   ],
   "source": [
    "# 1.e Using a method, append int 10 to the set\n",
    "one_d.add(10)\n",
    "print(f\"1.e - Set after adding 10: {one_d}\")"
   ]
  },
  {
   "cell_type": "code",
   "execution_count": 21,
   "id": "8e0e29ef",
   "metadata": {},
   "outputs": [
    {
     "name": "stdout",
     "output_type": "stream",
     "text": [
      "1.f - Popped item: 0.0\n",
      "1.f - Set after popping an item: {1.0, 2.0, 3.0, 4.0, 6.0, 7.0, 8.0, 9.0, 10}\n"
     ]
    }
   ],
   "source": [
    "# 1.f Using a method, pop an item from the set\n",
    "one_f = one_d.pop()\n",
    "print(f\"1.f - Popped item: {one_f}\")\n",
    "print(f\"1.f - Set after popping an item: {one_d}\")"
   ]
  },
  {
   "cell_type": "code",
   "execution_count": 22,
   "id": "706884f4",
   "metadata": {},
   "outputs": [
    {
     "name": "stdout",
     "output_type": "stream",
     "text": [
      "1.g - Number of items in the set: 9\n"
     ]
    }
   ],
   "source": [
    "# 1.g Using a length counting function, count the number of items in the set\n",
    "one_g = len(one_d)\n",
    "print(f\"1.g - Number of items in the set: {one_g}\")"
   ]
  },
  {
   "cell_type": "code",
   "execution_count": 23,
   "id": "bd900184",
   "metadata": {},
   "outputs": [
    {
     "name": "stdout",
     "output_type": "stream",
     "text": [
      "1.h - Set length (9) = List length (12): False\n"
     ]
    }
   ],
   "source": [
    "# 1.h Check if the number of items in the set is the same as the number of items in the list\n",
    "one_h = len(one_d) == len(one_a)\n",
    "print(f\"1.h - Set length ({len(one_d)}) = List length ({len(one_a)}): {one_h}\")"
   ]
  },
  {
   "cell_type": "code",
   "execution_count": 24,
   "id": "825438b7",
   "metadata": {},
   "outputs": [
    {
     "name": "stdout",
     "output_type": "stream",
     "text": [
      "1.i - Combined list: [1.0, 2.0, 3.0, 4.0, 6.0, 7.0, 8.0, 9.0, 10, 0, 1, 2, 3, 4, 8, 6, 7, 8, 9, 0, 1]\n"
     ]
    }
   ],
   "source": [
    "# 1.i Coerce the set to a list and use the \"+\" operator combine the list to the list from 1.a\n",
    "one_i = list(one_d) + one_a\n",
    "print(f\"1.i - Combined list: {one_i}\")"
   ]
  },
  {
   "cell_type": "code",
   "execution_count": 25,
   "id": "c0735a2c",
   "metadata": {},
   "outputs": [
    {
     "name": "stdout",
     "output_type": "stream",
     "text": [
      "1.j - Set from combined list: {0, 1.0, 2.0, 3.0, 4.0, 6.0, 7.0, 8.0, 9.0, 10}\n"
     ]
    }
   ],
   "source": [
    "# 1.j Coerce 1.i to a set\n",
    "one_j = set(one_i)\n",
    "print(f\"1.j - Set from combined list: {one_j}\")"
   ]
  },
  {
   "cell_type": "code",
   "execution_count": 26,
   "id": "c967f5a5",
   "metadata": {},
   "outputs": [
    {
     "name": "stdout",
     "output_type": "stream",
     "text": [
      "1.k - Number of elements in the set from combined list: 10\n"
     ]
    }
   ],
   "source": [
    "# 1.k Count the number of elements in the 1.j\n",
    "one_k = len(one_j)\n",
    "print(f\"1.k - Number of elements in the set from combined list: {one_k}\")"
   ]
  }
 ],
 "metadata": {
  "kernelspec": {
   "display_name": "Python 3",
   "language": "python",
   "name": "python3"
  },
  "language_info": {
   "codemirror_mode": {
    "name": "ipython",
    "version": 3
   },
   "file_extension": ".py",
   "mimetype": "text/x-python",
   "name": "python",
   "nbconvert_exporter": "python",
   "pygments_lexer": "ipython3",
   "version": "3.13.3"
  }
 },
 "nbformat": 4,
 "nbformat_minor": 5
}
