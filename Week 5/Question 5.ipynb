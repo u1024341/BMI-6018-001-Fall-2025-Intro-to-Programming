{
 "cells": [
  {
   "cell_type": "markdown",
   "id": "ce8bd26a",
   "metadata": {},
   "source": [
    "#Problem 5: More variable type changes\n",
    "\n",
    "Continue from where you left off in Problem 4.\n",
    "\n",
    "5.a Manually create a dictionary where the values are items in the list from where we left in \n",
    "    problem 4, and the keys should be their index in the list. Print the dictionary.\n",
    " .b Add 300 and coerce it into a string\n",
    " .c append the type to the list\n",
    " .d slice the string up to the 2nd element\n",
    " .e append the type to the list\n",
    " .f use list comprehension to convert this into a new list of integers\n",
    " .g append the type to the list\n",
    " .h append the type of three_setA to the list"
   ]
  },
  {
   "cell_type": "code",
   "execution_count": 2,
   "id": "ed783377",
   "metadata": {},
   "outputs": [
    {
     "name": "stdout",
     "output_type": "stream",
     "text": [
      "4.a - Variable of type int: 8\n"
     ]
    }
   ],
   "source": [
    "# 4.a Create a variable of type int with the value of 8\n",
    "four_a = 8\n",
    "print(f\"4.a - Variable of type int: {four_a}\")"
   ]
  },
  {
   "cell_type": "code",
   "execution_count": 4,
   "id": "7fd7b87c",
   "metadata": {},
   "outputs": [
    {
     "name": "stdout",
     "output_type": "stream",
     "text": [
      "4.b - Empty list: []\n"
     ]
    }
   ],
   "source": [
    "# 4.b Create an empty list\n",
    "four_b = []\n",
    "print(f\"4.b - Empty list: {four_b}\")"
   ]
  },
  {
   "cell_type": "code",
   "execution_count": 5,
   "id": "02830494",
   "metadata": {},
   "outputs": [
    {
     "name": "stdout",
     "output_type": "stream",
     "text": [
      "4.c - List after appending type of four_a: [<class 'int'>]\n"
     ]
    }
   ],
   "source": [
    "# 4.c Using type(), add the type of 4.a to this list\n",
    "four_b.append(type(four_a))\n",
    "four_c = four_b\n",
    "print(f\"4.c - List after appending type of four_a: {four_c}\")"
   ]
  },
  {
   "cell_type": "code",
   "execution_count": 6,
   "id": "ea5e393c",
   "metadata": {},
   "outputs": [
    {
     "name": "stdout",
     "output_type": "stream",
     "text": [
      "4.d - four_a + 0.39 = 8.39 (type: <class 'float'>)\n"
     ]
    }
   ],
   "source": [
    "# 4.d Add 0.39 to 4.c\n",
    "four_d = four_a + 0.39\n",
    "print(f\"4.d - four_a + 0.39 = {four_d} (type: {type(four_d)})\")"
   ]
  },
  {
   "cell_type": "code",
   "execution_count": 7,
   "id": "90b7a87a",
   "metadata": {},
   "outputs": [
    {
     "name": "stdout",
     "output_type": "stream",
     "text": [
      "4.e - List after appending type of 0.39: [<class 'int'>, <class 'float'>]\n"
     ]
    }
   ],
   "source": [
    "# 4.e append the type of 0.39 to the list\n",
    "four_b.append(type(0.39))\n",
    "print(f\"4.e - List after appending type of 0.39: {four_b}\")"
   ]
  },
  {
   "cell_type": "code",
   "execution_count": 8,
   "id": "1fc6ae62",
   "metadata": {},
   "outputs": [
    {
     "name": "stdout",
     "output_type": "stream",
     "text": [
      "4.f - List after appending four_d^-10 rounded: [<class 'int'>, <class 'float'>, 0]\n"
     ]
    }
   ],
   "source": [
    "# 4.f exponentiate to the -10\n",
    "four_f = round(four_d ** -10)\n",
    "four_b.append(four_f)\n",
    "print(f\"4.f - List after appending four_d^-10 rounded: {four_b}\")"
   ]
  },
  {
   "cell_type": "code",
   "execution_count": 9,
   "id": "d451398d",
   "metadata": {},
   "outputs": [
    {
     "name": "stdout",
     "output_type": "stream",
     "text": [
      "4.g - List after appending type of four_f: [<class 'int'>, <class 'float'>, 0, <class 'int'>]\n"
     ]
    }
   ],
   "source": [
    "# 4.g append the type to the list\n",
    "four_b.append(type(four_f))\n",
    "print(f\"4.g - List after appending type of four_f: {four_b}\")"
   ]
  },
  {
   "cell_type": "code",
   "execution_count": 16,
   "id": "4360e05b",
   "metadata": {},
   "outputs": [
    {
     "name": "stdout",
     "output_type": "stream",
     "text": [
      "5.a - Dictionary with indices as keys: {0: <class 'int'>, 1: <class 'float'>, 2: 0}\n",
      "Detailed View of Dictionary:\n",
      " Index 0: <class 'int'> (type: <class 'type'>)\n",
      " Index 1: <class 'float'> (type: <class 'type'>)\n",
      " Index 2: 0 (type: <class 'int'>)\n"
     ]
    }
   ],
   "source": [
    "# 5.a Manually create a dictionary where the values are items in the list from where we left in problem 4\n",
    "five_a = {0: four_b[0], 1: four_b[1], 2: four_b[2]}\n",
    "print(f\"5.a - Dictionary with indices as keys: {five_a}\")\n",
    "print(\"Detailed View of Dictionary:\")\n",
    "for key, value in five_a.items():\n",
    "    print(f\" Index {key}: {value} (type: {type(value)})\")"
   ]
  },
  {
   "cell_type": "code",
   "execution_count": 17,
   "id": "566ccd0b",
   "metadata": {},
   "outputs": [
    {
     "name": "stdout",
     "output_type": "stream",
     "text": [
      "5.b - Dictionary after adding '300' as string: {0: <class 'int'>, 1: <class 'float'>, 2: 0, 300: '300'}\n"
     ]
    }
   ],
   "source": [
    "# 5.b Add 300 and coerce it into a string\n",
    "five_a[300] = str(300)\n",
    "print(f\"5.b - Dictionary after adding '300' as string: {five_a}\")"
   ]
  },
  {
   "cell_type": "code",
   "execution_count": 18,
   "id": "8c2ae4d1",
   "metadata": {},
   "outputs": [
    {
     "name": "stdout",
     "output_type": "stream",
     "text": [
      "5.c - List after appending type of five_a[300]: [<class 'int'>, <class 'float'>, 0, <class 'int'>, <class 'str'>]\n"
     ]
    }
   ],
   "source": [
    "# 5.c append the type to the list\n",
    "four_b.append(type(five_a[300]))\n",
    "print(f\"5.c - List after appending type of five_a[300]: {four_b}\")"
   ]
  },
  {
   "cell_type": "code",
   "execution_count": 19,
   "id": "3ef252d3",
   "metadata": {},
   "outputs": [
    {
     "name": "stdout",
     "output_type": "stream",
     "text": [
      "5.d - String sliced up to 2nd element: 30\n"
     ]
    }
   ],
   "source": [
    "# 5.d slice the string up to the 2nd element\n",
    "five_d = five_a[300][:2]\n",
    "print(f\"5.d - String sliced up to 2nd element: {five_d}\")"
   ]
  },
  {
   "cell_type": "code",
   "execution_count": 20,
   "id": "61e10562",
   "metadata": {},
   "outputs": [
    {
     "name": "stdout",
     "output_type": "stream",
     "text": [
      "5.e - List after appending type of five_d: [<class 'int'>, <class 'float'>, 0, <class 'int'>, <class 'str'>, <class 'str'>]\n"
     ]
    }
   ],
   "source": [
    "#5.e append the type to the list\n",
    "four_b.append(type(five_d))\n",
    "print(f\"5.e - List after appending type of five_d: {four_b}\")"
   ]
  },
  {
   "cell_type": "code",
   "execution_count": 21,
   "id": "bf6cc14a",
   "metadata": {},
   "outputs": [
    {
     "name": "stdout",
     "output_type": "stream",
     "text": [
      "5.f - List of integers from string: [3, 0]\n"
     ]
    }
   ],
   "source": [
    "#5.f use list comprehension to convert this into a new list of integers\n",
    "five_f = [int(char) for char in five_d]\n",
    "print(f\"5.f - List of integers from string: {five_f}\")"
   ]
  },
  {
   "cell_type": "code",
   "execution_count": 22,
   "id": "ce53b168",
   "metadata": {},
   "outputs": [
    {
     "name": "stdout",
     "output_type": "stream",
     "text": [
      "5.g - List after appending type of five_f: [<class 'int'>, <class 'float'>, 0, <class 'int'>, <class 'str'>, <class 'str'>, <class 'list'>]\n"
     ]
    }
   ],
   "source": [
    "#5.g append the type to the list\n",
    "four_b.append(type(five_f))\n",
    "print(f\"5.g - List after appending type of five_f: {four_b}\")"
   ]
  },
  {
   "cell_type": "code",
   "execution_count": 24,
   "id": "34561e52",
   "metadata": {},
   "outputs": [],
   "source": [
    "three_setA = {1,2,3,4,5}\n",
    "three_setB = {2,3,4,5,6}\n",
    "three_setC = {3,5,7,9}\n",
    "three_setD = {2,4,6,8}\n",
    "three_setE = {1,2,3,4}"
   ]
  },
  {
   "cell_type": "code",
   "execution_count": 27,
   "id": "df01d6d0",
   "metadata": {},
   "outputs": [
    {
     "name": "stdout",
     "output_type": "stream",
     "text": [
      "5.h - List after appending type of three_setA: [<class 'int'>, <class 'float'>, 0, <class 'int'>, <class 'str'>, <class 'str'>, <class 'list'>, <class 'set'>, <class 'set'>, <class 'set'>]\n"
     ]
    }
   ],
   "source": [
    "#5.h append the type of three_setA to the list\n",
    "four_b.append(type(three_setA))\n",
    "print(f\"5.h - List after appending type of three_setA: {four_b}\")"
   ]
  }
 ],
 "metadata": {
  "kernelspec": {
   "display_name": "Python 3",
   "language": "python",
   "name": "python3"
  },
  "language_info": {
   "codemirror_mode": {
    "name": "ipython",
    "version": 3
   },
   "file_extension": ".py",
   "mimetype": "text/x-python",
   "name": "python",
   "nbconvert_exporter": "python",
   "pygments_lexer": "ipython3",
   "version": "3.13.3"
  }
 },
 "nbformat": 4,
 "nbformat_minor": 5
}
