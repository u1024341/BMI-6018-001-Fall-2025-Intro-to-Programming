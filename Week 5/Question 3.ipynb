{
 "cells": [
  {
   "cell_type": "markdown",
   "id": "8702526f",
   "metadata": {},
   "source": [
    "#Problem 3: Set combinations\n",
    "\n",
    "Given the predefined sets below and using set methods\n",
    "3.a Is set E a subset of set A\n",
    " .b Is set E a strict subset of set A\n",
    " .c Create a set that is the intersection of set A and set B\n",
    " .d Create a set that is the union of sets C, D and E\n",
    " .e add 9 to the set\n",
    " .f Using == compare this set to the list in one_a\n",
    " .g Explain why they are not the same. What would you need to change if you\n",
    "    wanted this to be True?"
   ]
  },
  {
   "cell_type": "code",
   "execution_count": 1,
   "id": "d7bb0cbc",
   "metadata": {},
   "outputs": [],
   "source": [
    "three_setA = {1,2,3,4,5}\n",
    "three_setB = {2,3,4,5,6}\n",
    "three_setC = {3,5,7,9}\n",
    "three_setD = {2,4,6,8}\n",
    "three_setE = {1,2,3,4}"
   ]
  },
  {
   "cell_type": "code",
   "execution_count": 2,
   "id": "94e6ee40",
   "metadata": {},
   "outputs": [
    {
     "name": "stdout",
     "output_type": "stream",
     "text": [
      "3.a - Is set E a subset of set A? True\n"
     ]
    }
   ],
   "source": [
    "# 3.a Is set E a subset of set A\n",
    "three_a = three_setE.issubset(three_setA)\n",
    "print(f\"3.a - Is set E a subset of set A? {three_a}\")"
   ]
  },
  {
   "cell_type": "code",
   "execution_count": 3,
   "id": "741a4f43",
   "metadata": {},
   "outputs": [
    {
     "name": "stdout",
     "output_type": "stream",
     "text": [
      "3.b - Is set E a strict subset of set A? True\n"
     ]
    }
   ],
   "source": [
    "# 3.b Is set E a strict subset of set A\n",
    "three_b = three_setE < three_setA\n",
    "print(f\"3.b - Is set E a strict subset of set A? {three_b}\")"
   ]
  },
  {
   "cell_type": "code",
   "execution_count": 4,
   "id": "9e84a55f",
   "metadata": {},
   "outputs": [
    {
     "name": "stdout",
     "output_type": "stream",
     "text": [
      "3.c - Intersection of set A and set B: {2, 3, 4, 5}\n"
     ]
    }
   ],
   "source": [
    "# 3.c Create a set that is the intersection of set A and set B\n",
    "three_c = three_setA.intersection(three_setB)\n",
    "print(f\"3.c - Intersection of set A and set B: {three_c}\")"
   ]
  },
  {
   "cell_type": "code",
   "execution_count": 5,
   "id": "a5b0bc08",
   "metadata": {},
   "outputs": [
    {
     "name": "stdout",
     "output_type": "stream",
     "text": [
      "3.d - Union of sets C, D and E: {1, 2, 3, 4, 5, 6, 7, 8, 9}\n"
     ]
    }
   ],
   "source": [
    "# 3.d Create a set that is the union of sets C, D and E\n",
    "three_d = three_setC.union(three_setD).union(three_setE)\n",
    "print(f\"3.d - Union of sets C, D and E: {three_d}\")"
   ]
  },
  {
   "cell_type": "code",
   "execution_count": 6,
   "id": "43162343",
   "metadata": {},
   "outputs": [
    {
     "name": "stdout",
     "output_type": "stream",
     "text": [
      "3.e - Set after adding 9: {1, 2, 3, 4, 5, 6, 7, 8, 9}\n"
     ]
    }
   ],
   "source": [
    "# 3.e add 9 to the set\n",
    "three_d.add(9)\n",
    "print(f\"3.e - Set after adding 9: {three_d}\")"
   ]
  },
  {
   "cell_type": "code",
   "execution_count": 14,
   "id": "4baa05ff",
   "metadata": {},
   "outputs": [
    {
     "name": "stdout",
     "output_type": "stream",
     "text": [
      "1.a - Initial list: [0, 1, 2, 3, 4, 5, 6, 7, 8, 9, 0, 1]\n"
     ]
    }
   ],
   "source": [
    "# 1.a Create a list of integers no fewer than 10 items from 0 to 9.\n",
    "one_a = [0, 1, 2, 3, 4, 5, 6, 7, 8, 9, 0, 1]\n",
    "print(f\"1.a - Initial list: {one_a}\")"
   ]
  },
  {
   "cell_type": "code",
   "execution_count": 16,
   "id": "ac18f361",
   "metadata": {},
   "outputs": [
    {
     "name": "stdout",
     "output_type": "stream",
     "text": [
      "3.f - Does three_d equal the set of one_a? False\n",
      "three_d: {1, 2, 3, 4, 5, 6, 7, 8, 9}\n",
      "set(one_a): {0, 1, 2, 3, 4, 5, 6, 7, 8, 9}\n"
     ]
    }
   ],
   "source": [
    "# 3.f Using == compare this set to the list in one_a\n",
    "three_f = three_d == set(one_a)\n",
    "print(f\"3.f - Does three_d equal the set of one_a? {three_f}\")\n",
    "print(f\"three_d: {three_d}\")\n",
    "print(f\"set(one_a): {set(one_a)}\")"
   ]
  },
  {
   "cell_type": "markdown",
   "id": "9d781e51",
   "metadata": {},
   "source": [
    "#3.g Explain why they are not the same. What would you need to change if you wanted this to be True?\n",
    "\n",
    "The sets differ because one contains the element 0 while the other doesn't.\n",
    "\n",
    "First set (9 elements): {1, 2, 3, 4, 5, 6, 7, 8, 9}\n",
    "\n",
    "Second set (10 elements): {0, 1, 2, 3, 4, 5, 6, 7, 8, 9}\n",
    "\n",
    "To make them equal, either add 0 to the first set OR remove 0 from the second set."
   ]
  }
 ],
 "metadata": {
  "kernelspec": {
   "display_name": "Python 3",
   "language": "python",
   "name": "python3"
  },
  "language_info": {
   "codemirror_mode": {
    "name": "ipython",
    "version": 3
   },
   "file_extension": ".py",
   "mimetype": "text/x-python",
   "name": "python",
   "nbconvert_exporter": "python",
   "pygments_lexer": "ipython3",
   "version": "3.13.3"
  }
 },
 "nbformat": 4,
 "nbformat_minor": 5
}
