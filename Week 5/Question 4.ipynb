{
 "cells": [
  {
   "cell_type": "markdown",
   "id": "4cb9bb74",
   "metadata": {},
   "source": [
    "#Problem 4: Changing variable types\n",
    "\n",
    "For each step you will modify a variable, then append the type of the variable\n",
    "to a list. Do not recreate the list variable, it should be a running list of \n",
    "types.\n",
    "\n",
    "4.a Create a variable of type int with the value of 8\n",
    " .b Create an empty list \n",
    " .c Using type(), add the type of 4.a to this list\n",
    " .d Add 0.39 to 4.c\n",
    " .e append the type of 0.39 to the list\n",
    " .f exponentiate to the -10, ie: 4.d^-10,(hint: there might be an artihmetic operator to do so) round it to no decimal places, and append to list.\n",
    " .g append the type to the list"
   ]
  },
  {
   "cell_type": "code",
   "execution_count": 15,
   "id": "43a40438",
   "metadata": {},
   "outputs": [
    {
     "name": "stdout",
     "output_type": "stream",
     "text": [
      "4.a - Variable of type int: 8\n"
     ]
    }
   ],
   "source": [
    "# 4.a Create a variable of type int with the value of 8\n",
    "four_a = 8\n",
    "print(f\"4.a - Variable of type int: {four_a}\")"
   ]
  },
  {
   "cell_type": "code",
   "execution_count": 16,
   "id": "59bffe09",
   "metadata": {},
   "outputs": [
    {
     "name": "stdout",
     "output_type": "stream",
     "text": [
      "4.b - Empty list: []\n"
     ]
    }
   ],
   "source": [
    "# 4.b Create an empty list\n",
    "four_b = []\n",
    "print(f\"4.b - Empty list: {four_b}\")"
   ]
  },
  {
   "cell_type": "code",
   "execution_count": 17,
   "id": "f075cb7e",
   "metadata": {},
   "outputs": [
    {
     "name": "stdout",
     "output_type": "stream",
     "text": [
      "4.c - List after appending type of four_a: [<class 'int'>]\n"
     ]
    }
   ],
   "source": [
    "# 4.c Using type(), add the type of 4.a to this list\n",
    "four_b.append(type(four_a))\n",
    "four_c = four_b\n",
    "print(f\"4.c - List after appending type of four_a: {four_c}\")"
   ]
  },
  {
   "cell_type": "code",
   "execution_count": 18,
   "id": "d050b18c",
   "metadata": {},
   "outputs": [
    {
     "name": "stdout",
     "output_type": "stream",
     "text": [
      "4.d - four_a + 0.39 = 8.39 (type: <class 'float'>)\n"
     ]
    }
   ],
   "source": [
    "# 4.d Add 0.39 to 4.c\n",
    "four_d = four_a + 0.39\n",
    "print(f\"4.d - four_a + 0.39 = {four_d} (type: {type(four_d)})\")"
   ]
  },
  {
   "cell_type": "code",
   "execution_count": 19,
   "id": "160528e3",
   "metadata": {},
   "outputs": [
    {
     "name": "stdout",
     "output_type": "stream",
     "text": [
      "4.e - List after appending type of 0.39: [<class 'int'>, <class 'float'>]\n"
     ]
    }
   ],
   "source": [
    "# 4.e append the type of 0.39 to the list\n",
    "four_b.append(type(0.39))\n",
    "print(f\"4.e - List after appending type of 0.39: {four_b}\")"
   ]
  },
  {
   "cell_type": "code",
   "execution_count": null,
   "id": "7a70648f",
   "metadata": {},
   "outputs": [
    {
     "name": "stdout",
     "output_type": "stream",
     "text": [
      "4.f - List after appending four_d^-10 rounded: [<class 'int'>, <class 'float'>, 0]\n"
     ]
    }
   ],
   "source": [
    "# 4.f exponentiate to the -10\n",
    "four_f = round(four_d ** -10)\n",
    "four_b.append(four_f)\n",
    "print(f\"4.f - List after appending four_d^-10 rounded: {four_b}\")"
   ]
  },
  {
   "cell_type": "code",
   "execution_count": 21,
   "id": "159e3060",
   "metadata": {},
   "outputs": [
    {
     "name": "stdout",
     "output_type": "stream",
     "text": [
      "4.g - List after appending type of four_f: [<class 'int'>, <class 'float'>, 0, <class 'int'>]\n"
     ]
    }
   ],
   "source": [
    "# 4.g append the type to the list\n",
    "four_b.append(type(four_f))\n",
    "print(f\"4.g - List after appending type of four_f: {four_b}\")"
   ]
  }
 ],
 "metadata": {
  "kernelspec": {
   "display_name": "Python 3",
   "language": "python",
   "name": "python3"
  },
  "language_info": {
   "codemirror_mode": {
    "name": "ipython",
    "version": 3
   },
   "file_extension": ".py",
   "mimetype": "text/x-python",
   "name": "python",
   "nbconvert_exporter": "python",
   "pygments_lexer": "ipython3",
   "version": "3.13.3"
  }
 },
 "nbformat": 4,
 "nbformat_minor": 5
}
