{
 "cells": [
  {
   "cell_type": "markdown",
   "id": "82d1b240",
   "metadata": {},
   "source": [
    "#Problem 2: Dictionary woes\n",
    "\n",
    "2.a Combine the three sample dictionaries (given below) into a nested dictionary (nested in programming means joined), named two_a, ensure the key names are the same as the dictionary names.\n",
    " .b Using keys, retrieve the Dango's name from 2.a\n",
    " .c Using keys, update the value of Mochi's year to 2018. This should not be a variable\n",
    "    and should simply update 2.a.\n",
    " .d Manually create a dictionary that has a single level and contains each patient\n",
    "    as the key and the year as the value. Set Mochi's year to 2019.\n",
    " .e Coerce the keys of 2.d into a list\n",
    " .f Coerce the values of 2.d into a list\n",
    " .g Use the zip function to combine 2.e and 2.f into a dictionary again"
   ]
  },
  {
   "cell_type": "code",
   "execution_count": 38,
   "id": "ed2dd4ea",
   "metadata": {},
   "outputs": [],
   "source": [
    "two_patient_dictionary_kinoko = {\n",
    "  \"name\" : \"Kinoko\",\n",
    "  \"year\" : 2021\n",
    "}\n",
    "two_patient_dictionary_dango = {\n",
    "  \"name\" : \"Dango\",\n",
    "  \"year\" : 2019\n",
    "}\n",
    "two_patient_dictionary_mochi  = {\n",
    "  \"name\" : \"Mochi\",\n",
    "  \"year\" : 2020\n",
    "}"
   ]
  },
  {
   "cell_type": "code",
   "execution_count": 39,
   "id": "bdb7c29b",
   "metadata": {},
   "outputs": [
    {
     "name": "stdout",
     "output_type": "stream",
     "text": [
      "2.a - Nested dictionary: {'two_patient_dictionary_kinoko': {'name': 'Kinoko', 'year': 2021}, 'two_patient_dictionary_dango': {'name': 'Dango', 'year': 2019}, 'two_patient_dictionary_mochi': {'name': 'Mochi', 'year': 2020}}\n"
     ]
    }
   ],
   "source": [
    "# 2.a Combine the three sample dictionaries (given below) into a nested dictionary\n",
    "two_a = {\n",
    "    \"two_patient_dictionary_kinoko\": two_patient_dictionary_kinoko,\n",
    "    \"two_patient_dictionary_dango\": two_patient_dictionary_dango,\n",
    "    \"two_patient_dictionary_mochi\": two_patient_dictionary_mochi\n",
    "}\n",
    "print(f\"2.a - Nested dictionary: {two_a}\")"
   ]
  },
  {
   "cell_type": "code",
   "execution_count": 27,
   "id": "42c5afc9",
   "metadata": {},
   "outputs": [
    {
     "name": "stdout",
     "output_type": "stream",
     "text": [
      "2.b - Dango's name from nested dictionary: Dango\n"
     ]
    }
   ],
   "source": [
    "#2.b Using keys, retrieve the Dango's name from 2.a\n",
    "two_b = two_a[\"two_patient_dictionary_dango\"][\"name\"]\n",
    "print(f\"2.b - Dango's name from nested dictionary: {two_b}\")"
   ]
  },
  {
   "cell_type": "code",
   "execution_count": 40,
   "id": "b93d394a",
   "metadata": {},
   "outputs": [
    {
     "name": "stdout",
     "output_type": "stream",
     "text": [
      "2.c - Original Mochi's year: 2020\n",
      "2.c - Updated Mochi's year to: 2018\n"
     ]
    }
   ],
   "source": [
    "# 2.c Using keys, update the value of Mochi's year to 2018.\n",
    "original_year = two_a[\"two_patient_dictionary_mochi\"][\"year\"]\n",
    "print(f\"2.c - Original Mochi's year: {original_year}\")\n",
    "two_a[\"two_patient_dictionary_mochi\"][\"year\"] = 2018\n",
    "print(f\"2.c - Updated Mochi's year to: {two_a['two_patient_dictionary_mochi']['year']}\")"
   ]
  },
  {
   "cell_type": "code",
   "execution_count": 41,
   "id": "27f6d708",
   "metadata": {},
   "outputs": [
    {
     "name": "stdout",
     "output_type": "stream",
     "text": [
      "2.d - Single level dictionary: {'Kinoko': 2021, 'Dango': 2019, 'Mochi': 2019}\n"
     ]
    }
   ],
   "source": [
    "# 2.d Manually create a dictionary that has a single level and contains each patient as the key and the year as the value. Set Mochi's year to 2019.\n",
    "two_d = {\n",
    "    \"Kinoko\": 2021,\n",
    "    \"Dango\": 2019,\n",
    "    \"Mochi\": 2019\n",
    "}\n",
    "print(f\"2.d - Single level dictionary: {two_d}\")"
   ]
  },
  {
   "cell_type": "code",
   "execution_count": 42,
   "id": "182cd31e",
   "metadata": {},
   "outputs": [
    {
     "name": "stdout",
     "output_type": "stream",
     "text": [
      "2.e - List of keys from 2.d: ['Kinoko', 'Dango', 'Mochi']\n"
     ]
    }
   ],
   "source": [
    "# 2.e Coerce the keys of 2.d into a list\n",
    "two_e = list(two_d.keys())\n",
    "print(f\"2.e - List of keys from 2.d: {two_e}\")"
   ]
  },
  {
   "cell_type": "code",
   "execution_count": 43,
   "id": "560d79c1",
   "metadata": {},
   "outputs": [
    {
     "name": "stdout",
     "output_type": "stream",
     "text": [
      "2.f - List of values from 2.d: [2021, 2019, 2019]\n"
     ]
    }
   ],
   "source": [
    "# 2.f Coerce the values of 2.d into a list\n",
    "two_f = list(two_d.values())\n",
    "print(f\"2.f - List of values from 2.d: {two_f}\")    "
   ]
  },
  {
   "cell_type": "code",
   "execution_count": 44,
   "id": "b6e46ef9",
   "metadata": {},
   "outputs": [
    {
     "name": "stdout",
     "output_type": "stream",
     "text": [
      "2.g - Combined dictionary from zipped lists: {'Kinoko': 2021, 'Dango': 2019, 'Mochi': 2019}\n"
     ]
    }
   ],
   "source": [
    "# 2.g Use the zip function to combine 2.e and 2.f into a dictionary again\n",
    "two_g = dict(zip(two_e, two_f))\n",
    "print(f\"2.g - Combined dictionary from zipped lists: {two_g}\")"
   ]
  }
 ],
 "metadata": {
  "kernelspec": {
   "display_name": "Python 3",
   "language": "python",
   "name": "python3"
  },
  "language_info": {
   "codemirror_mode": {
    "name": "ipython",
    "version": 3
   },
   "file_extension": ".py",
   "mimetype": "text/x-python",
   "name": "python",
   "nbconvert_exporter": "python",
   "pygments_lexer": "ipython3",
   "version": "3.13.3"
  }
 },
 "nbformat": 4,
 "nbformat_minor": 5
}
