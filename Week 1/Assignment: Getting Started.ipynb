{
 "cells": [
  {
   "cell_type": "code",
   "execution_count": 3,
   "id": "80ff200b",
   "metadata": {},
   "outputs": [
    {
     "name": "stdout",
     "output_type": "stream",
     "text": [
      "I, Leo Alvarez, have succesfully installed and run a python program on my computer! \n"
     ]
    }
   ],
   "source": [
    "output = \"I, Leo Alvarez, have succesfully installed and run a python program on my computer! \"\n",
    "print(output)"
   ]
  }
 ],
 "metadata": {
  "kernelspec": {
   "display_name": "Python 3",
   "language": "python",
   "name": "python3"
  },
  "language_info": {
   "codemirror_mode": {
    "name": "ipython",
    "version": 3
   },
   "file_extension": ".py",
   "mimetype": "text/x-python",
   "name": "python",
   "nbconvert_exporter": "python",
   "pygments_lexer": "ipython3",
   "version": "3.13.3"
  }
 },
 "nbformat": 4,
 "nbformat_minor": 5
}
