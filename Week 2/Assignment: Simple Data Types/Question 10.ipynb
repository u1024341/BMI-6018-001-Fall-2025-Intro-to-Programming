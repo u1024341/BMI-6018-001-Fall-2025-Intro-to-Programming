{
 "cells": [
  {
   "cell_type": "markdown",
   "id": "f7367a77",
   "metadata": {},
   "source": [
    "If the strings \"7\" and \"3\" are added using the + operator, Python will concatenate them, not perform arithmetic."
   ]
  },
  {
   "cell_type": "code",
   "execution_count": 4,
   "id": "8e6facd9",
   "metadata": {},
   "outputs": [
    {
     "name": "stdout",
     "output_type": "stream",
     "text": [
      "73\n"
     ]
    }
   ],
   "source": [
    "# Example \n",
    "print (\"7\" + \"3\")"
   ]
  }
 ],
 "metadata": {
  "kernelspec": {
   "display_name": "Python 3",
   "language": "python",
   "name": "python3"
  },
  "language_info": {
   "codemirror_mode": {
    "name": "ipython",
    "version": 3
   },
   "file_extension": ".py",
   "mimetype": "text/x-python",
   "name": "python",
   "nbconvert_exporter": "python",
   "pygments_lexer": "ipython3",
   "version": "3.13.3"
  }
 },
 "nbformat": 4,
 "nbformat_minor": 5
}
