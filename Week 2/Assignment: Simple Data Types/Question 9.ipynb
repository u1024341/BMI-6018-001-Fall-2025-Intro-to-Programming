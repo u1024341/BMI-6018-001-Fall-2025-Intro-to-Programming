{
 "cells": [
  {
   "cell_type": "markdown",
   "id": "e2c24137",
   "metadata": {},
   "source": [
    "The + operator works differently depending on the data type: when used with numbers, it adds them together (e.g., 10 + 20 = 30), but when used with strings, it combines them into one (e.g., \"Good\" + \"Morning\" = \"GoodMorning\")."
   ]
  },
  {
   "cell_type": "code",
   "execution_count": 6,
   "id": "fbb18387",
   "metadata": {},
   "outputs": [
    {
     "name": "stdout",
     "output_type": "stream",
     "text": [
      "Addition Result: 30\n"
     ]
    }
   ],
   "source": [
    "# Examples\n",
    "num1 = 10\n",
    "num2 = 20\n",
    "print(\"Addition Result:\", num1 + num2)\n"
   ]
  },
  {
   "cell_type": "code",
   "execution_count": 5,
   "id": "96461ce0",
   "metadata": {},
   "outputs": [
    {
     "name": "stdout",
     "output_type": "stream",
     "text": [
      "Concatenated Result: GoodMorning\n"
     ]
    }
   ],
   "source": [
    "str1 = \"Good\"\n",
    "str2 = \"Morning\"\n",
    "print(\"Concatenated Result:\", str1 + str2)"
   ]
  }
 ],
 "metadata": {
  "kernelspec": {
   "display_name": "Python 3",
   "language": "python",
   "name": "python3"
  },
  "language_info": {
   "codemirror_mode": {
    "name": "ipython",
    "version": 3
   },
   "file_extension": ".py",
   "mimetype": "text/x-python",
   "name": "python",
   "nbconvert_exporter": "python",
   "pygments_lexer": "ipython3",
   "version": "3.13.3"
  }
 },
 "nbformat": 4,
 "nbformat_minor": 5
}
