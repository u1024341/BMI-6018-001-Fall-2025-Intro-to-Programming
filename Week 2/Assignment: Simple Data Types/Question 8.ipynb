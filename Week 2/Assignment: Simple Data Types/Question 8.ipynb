{
 "cells": [
  {
   "cell_type": "code",
   "execution_count": 1,
   "id": "9f06f332",
   "metadata": {},
   "outputs": [
    {
     "name": "stdout",
     "output_type": "stream",
     "text": [
      "Susan's BMI is: 24.034609838166958\n"
     ]
    }
   ],
   "source": [
    "# Susan's Body Mass Index (BMI) calculator\n",
    "\n",
    "# Weight & Height\n",
    "weight = 60 # in kilograms\n",
    "height = 1.58 # in meters\n",
    "\n",
    "# Calculate BMI\n",
    "bmi = weight / (height ** 2)\n",
    "\n",
    "# Print BMI as a float\n",
    "print(\"Susan's BMI is:\", float(bmi))\n"
   ]
  }
 ],
 "metadata": {
  "kernelspec": {
   "display_name": "Python 3",
   "language": "python",
   "name": "python3"
  },
  "language_info": {
   "codemirror_mode": {
    "name": "ipython",
    "version": 3
   },
   "file_extension": ".py",
   "mimetype": "text/x-python",
   "name": "python",
   "nbconvert_exporter": "python",
   "pygments_lexer": "ipython3",
   "version": "3.13.3"
  }
 },
 "nbformat": 4,
 "nbformat_minor": 5
}
