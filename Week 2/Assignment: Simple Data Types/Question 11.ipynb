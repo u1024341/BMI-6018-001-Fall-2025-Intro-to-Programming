{
 "cells": [
  {
   "cell_type": "code",
   "execution_count": null,
   "id": "a1a2ca20",
   "metadata": {},
   "outputs": [
    {
     "name": "stdout",
     "output_type": "stream",
     "text": [
      "2\n"
     ]
    }
   ],
   "source": [
    "# Question 1 (Booleans)\n",
    "# boolean True + boolean True - boolean False = ?\n",
    "print(True + True - False)  # 1 + 1 - 0 = 2"
   ]
  },
  {
   "cell_type": "code",
   "execution_count": 8,
   "id": "b1ccb1e1",
   "metadata": {},
   "outputs": [
    {
     "name": "stdout",
     "output_type": "stream",
     "text": [
      "1\n"
     ]
    }
   ],
   "source": [
    "# Question 2 (Booleans 2)\n",
    "# logical tracker logic\n",
    "logical_tracker = True\n",
    "logical_tracker = logical_tracker & logical_tracker\n",
    "logical_tracker = logical_tracker | (logical_tracker - logical_tracker)\n",
    "print(logical_tracker) # 1 = True, 0 = False"
   ]
  },
  {
   "cell_type": "code",
   "execution_count": null,
   "id": "2a2859b8",
   "metadata": {},
   "outputs": [
    {
     "name": "stdout",
     "output_type": "stream",
     "text": [
      "[ ]\n"
     ]
    }
   ],
   "source": [
    "# Question 5 (Strings)\n",
    "# string = \"E. Coli\", string[2] = ?\n",
    "string = \"E. Coli\"\n",
    "print(\"[\" + string[2] + \"]\")  # \" \" (space) within brackets"
   ]
  },
  {
   "cell_type": "code",
   "execution_count": null,
   "id": "c177bedf",
   "metadata": {},
   "outputs": [
    {
     "name": "stdout",
     "output_type": "stream",
     "text": [
      "Error: 'str' object does not support item assignment\n"
     ]
    }
   ],
   "source": [
    "# Question 6 (Strings 2)\n",
    "# strings are immutable\n",
    "string = \"I Bove python\"\n",
    "try:\n",
    "    string[2] = \"L\"\n",
    "except TypeError as e:\n",
    "    print(\"Error:\", e)"
   ]
  },
  {
   "cell_type": "code",
   "execution_count": null,
   "id": "9a41345e",
   "metadata": {},
   "outputs": [
    {
     "name": "stdout",
     "output_type": "stream",
     "text": [
      "30\n",
      "GoodMorning\n"
     ]
    }
   ],
   "source": [
    "# Question 9 (Operators 2)\n",
    "# Example: addition vs concatenation\n",
    "print(10 + 20)            # 30 (integer addition)\n",
    "print(\"Good\" + \"Morning\") # \"GoodMorning\" (string concatenation)"
   ]
  },
  {
   "cell_type": "code",
   "execution_count": null,
   "id": "90a79ba8",
   "metadata": {},
   "outputs": [
    {
     "name": "stdout",
     "output_type": "stream",
     "text": [
      "73\n"
     ]
    }
   ],
   "source": [
    "# Question 10 (Strings 3)\n",
    "# Adding \"7\" + \"3\" as strings\n",
    "print(\"7\" + \"3\") "
   ]
  }
 ],
 "metadata": {
  "kernelspec": {
   "display_name": "Python 3",
   "language": "python",
   "name": "python3"
  },
  "language_info": {
   "codemirror_mode": {
    "name": "ipython",
    "version": 3
   },
   "file_extension": ".py",
   "mimetype": "text/x-python",
   "name": "python",
   "nbconvert_exporter": "python",
   "pygments_lexer": "ipython3",
   "version": "3.13.3"
  }
 },
 "nbformat": 4,
 "nbformat_minor": 5
}
